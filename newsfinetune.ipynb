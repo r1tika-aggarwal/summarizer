{
 "cells": [
  {
   "cell_type": "code",
   "execution_count": 4,
   "id": "cc215ede-f68d-4968-8535-127588006c66",
   "metadata": {},
   "outputs": [],
   "source": [
    "from transformers import AutoModelForSeq2SeqLM, AutoTokenizer, DataCollatorForSeq2Seq\n",
    "\n",
    "# model_name = \"fine_tuned_t5_2\"\n",
    "# model = AutoModelForSeq2SeqLM.from_pretrained(model_name)\n",
    "# tokenizer = AutoTokenizer.from_pretrained(model_name)"
   ]
  },
  {
   "cell_type": "code",
   "execution_count": 2,
   "id": "b50d983a-5cb5-497a-bdb2-cc88035078b8",
   "metadata": {},
   "outputs": [],
   "source": [
    "from datasets import Dataset"
   ]
  },
  {
   "cell_type": "code",
   "execution_count": 3,
   "id": "6d491db2",
   "metadata": {},
   "outputs": [],
   "source": [
    "import pandas as pd"
   ]
  },
  {
   "cell_type": "code",
   "execution_count": 4,
   "id": "e3c02955-151e-422c-85c6-7a887ce974f8",
   "metadata": {},
   "outputs": [],
   "source": [
    "data = pd.read_csv(\"cleaned_data.csv\")"
   ]
  },
  {
   "cell_type": "code",
   "execution_count": 5,
   "id": "66b7bee4-f45b-4088-9a03-85e504043342",
   "metadata": {},
   "outputs": [
    {
     "data": {
      "text/html": [
       "<div>\n",
       "<style scoped>\n",
       "    .dataframe tbody tr th:only-of-type {\n",
       "        vertical-align: middle;\n",
       "    }\n",
       "\n",
       "    .dataframe tbody tr th {\n",
       "        vertical-align: top;\n",
       "    }\n",
       "\n",
       "    .dataframe thead th {\n",
       "        text-align: right;\n",
       "    }\n",
       "</style>\n",
       "<table border=\"1\" class=\"dataframe\">\n",
       "  <thead>\n",
       "    <tr style=\"text-align: right;\">\n",
       "      <th></th>\n",
       "      <th>News</th>\n",
       "      <th>Summary</th>\n",
       "    </tr>\n",
       "  </thead>\n",
       "  <tbody>\n",
       "    <tr>\n",
       "      <th>0</th>\n",
       "      <td>Ad sales boost Time Warner profit Quarterly pr...</td>\n",
       "      <td>TimeWarner said fourth quarter sales rose 2% t...</td>\n",
       "    </tr>\n",
       "    <tr>\n",
       "      <th>1</th>\n",
       "      <td>Dollar gains on Greenspan speech The dollar ha...</td>\n",
       "      <td>The dollar has hit its highest level against t...</td>\n",
       "    </tr>\n",
       "    <tr>\n",
       "      <th>2</th>\n",
       "      <td>Yukos unit buyer faces loan claim The owners o...</td>\n",
       "      <td>Yukos' owner Menatep Group says it will ask Ro...</td>\n",
       "    </tr>\n",
       "    <tr>\n",
       "      <th>3</th>\n",
       "      <td>High fuel prices hit BA's profits British Airw...</td>\n",
       "      <td>Rod Eddington, BA's chief executive, said the ...</td>\n",
       "    </tr>\n",
       "    <tr>\n",
       "      <th>4</th>\n",
       "      <td>Pernod takeover talk lifts Domecq Shares in UK...</td>\n",
       "      <td>Pernod has reduced the debt it took on to fund...</td>\n",
       "    </tr>\n",
       "  </tbody>\n",
       "</table>\n",
       "</div>"
      ],
      "text/plain": [
       "                                                News  \\\n",
       "0  Ad sales boost Time Warner profit Quarterly pr...   \n",
       "1  Dollar gains on Greenspan speech The dollar ha...   \n",
       "2  Yukos unit buyer faces loan claim The owners o...   \n",
       "3  High fuel prices hit BA's profits British Airw...   \n",
       "4  Pernod takeover talk lifts Domecq Shares in UK...   \n",
       "\n",
       "                                             Summary  \n",
       "0  TimeWarner said fourth quarter sales rose 2% t...  \n",
       "1  The dollar has hit its highest level against t...  \n",
       "2  Yukos' owner Menatep Group says it will ask Ro...  \n",
       "3  Rod Eddington, BA's chief executive, said the ...  \n",
       "4  Pernod has reduced the debt it took on to fund...  "
      ]
     },
     "execution_count": 5,
     "metadata": {},
     "output_type": "execute_result"
    }
   ],
   "source": [
    "data.head()"
   ]
  },
  {
   "cell_type": "code",
   "execution_count": 6,
   "id": "9b930aaf-1593-4963-9d9b-f78a71cf9db3",
   "metadata": {},
   "outputs": [],
   "source": [
    "data = data[['News', 'Summary']]"
   ]
  },
  {
   "cell_type": "code",
   "execution_count": 7,
   "id": "a9dfc081-e08f-48e3-9c9d-4343420c0c55",
   "metadata": {},
   "outputs": [
    {
     "data": {
      "text/plain": [
       "(1714, 2)"
      ]
     },
     "execution_count": 7,
     "metadata": {},
     "output_type": "execute_result"
    }
   ],
   "source": [
    "data.shape"
   ]
  },
  {
   "cell_type": "code",
   "execution_count": 8,
   "id": "84edc093-7777-43ed-a3be-5227697c37e8",
   "metadata": {},
   "outputs": [],
   "source": [
    "dataset = Dataset.from_pandas(data)"
   ]
  },
  {
   "cell_type": "code",
   "execution_count": 9,
   "id": "34d4bf48-27f9-465b-8aa2-5d4a4e59de47",
   "metadata": {},
   "outputs": [
    {
     "data": {
      "application/vnd.jupyter.widget-view+json": {
       "model_id": "b7b4e10a916e4d9aac24b8784ee6e13b",
       "version_major": 2,
       "version_minor": 0
      },
      "text/plain": [
       "Map:   0%|          | 0/1714 [00:00<?, ? examples/s]"
      ]
     },
     "metadata": {},
     "output_type": "display_data"
    }
   ],
   "source": [
    "def preprocess_function(examples):\n",
    "    inputs = [\"summarize: \" + text for text in examples[\"News\"]]\n",
    "    model_inputs = tokenizer(inputs, max_length=2400, truncation=True)\n",
    "    labels = tokenizer(text_target=examples[\"Summary\"], max_length=1100, truncation=True)\n",
    "    model_inputs[\"labels\"] = labels[\"input_ids\"]\n",
    "    return model_inputs\n",
    "\n",
    "# Apply preprocessing\n",
    "tokenized_dataset = dataset.map(preprocess_function, batched=True)"
   ]
  },
  {
   "cell_type": "code",
   "execution_count": 10,
   "id": "35542621-7e75-4945-909d-eb6c2f5871bd",
   "metadata": {},
   "outputs": [],
   "source": [
    "data_collator = DataCollatorForSeq2Seq(tokenizer=tokenizer, model=model)"
   ]
  },
  {
   "cell_type": "code",
   "execution_count": 11,
   "id": "35ed4634-9d4c-47d4-b750-1f87893e6002",
   "metadata": {},
   "outputs": [],
   "source": [
    "split = tokenized_dataset.train_test_split(test_size=0.1)\n",
    "train_dataset = split['train']\n",
    "val_dataset = split['test']"
   ]
  },
  {
   "cell_type": "code",
   "execution_count": 12,
   "id": "8b810fce-1309-449a-baae-f6e0cbb60366",
   "metadata": {},
   "outputs": [],
   "source": [
    "from transformers import Seq2SeqTrainer, Seq2SeqTrainingArguments"
   ]
  },
  {
   "cell_type": "code",
   "execution_count": 13,
   "id": "de4c2ef8-9a95-4fe1-97c9-7e510c37644d",
   "metadata": {},
   "outputs": [],
   "source": [
    "for param in model.base_model.encoder.parameters():\n",
    "    param.requires_grad = False"
   ]
  },
  {
   "cell_type": "code",
   "execution_count": 14,
   "id": "9763f207-0033-42a9-821d-efc792d02987",
   "metadata": {},
   "outputs": [],
   "source": [
    "training_args = Seq2SeqTrainingArguments(\n",
    "    output_dir=\"fine_tuned_model_v2\",\n",
    "    eval_strategy=\"epoch\",\n",
    "    learning_rate=5e-6,\n",
    "    per_device_train_batch_size=2,\n",
    "    per_device_eval_batch_size=2,\n",
    "    num_train_epochs=3,\n",
    "    save_total_limit=2,\n",
    "    save_steps=500,\n",
    "    warmup_steps=200,\n",
    "    logging_dir=\"./logs\",\n",
    ")"
   ]
  },
  {
   "cell_type": "code",
   "execution_count": 15,
   "id": "6e1bb632-5c80-45cc-a969-3ad6a0883349",
   "metadata": {},
   "outputs": [],
   "source": [
    "trainer = Seq2SeqTrainer(\n",
    "    model=model,\n",
    "    args=training_args,\n",
    "    train_dataset=train_dataset,\n",
    "    eval_dataset=val_dataset,\n",
    "    tokenizer=tokenizer,\n",
    "    data_collator=data_collator,\n",
    ")"
   ]
  },
  {
   "cell_type": "code",
   "execution_count": 16,
   "id": "aeb09816-08fd-4314-aa5c-259c8bb24997",
   "metadata": {},
   "outputs": [
    {
     "data": {
      "application/vnd.jupyter.widget-view+json": {
       "model_id": "09cbaf5314714c3c8ec775965fab9b67",
       "version_major": 2,
       "version_minor": 0
      },
      "text/plain": [
       "  0%|          | 0/2313 [00:00<?, ?it/s]"
      ]
     },
     "metadata": {},
     "output_type": "display_data"
    },
    {
     "name": "stdout",
     "output_type": "stream",
     "text": [
      "{'loss': 1.3824, 'grad_norm': 2.4882595539093018, 'learning_rate': 4.290108849976337e-06, 'epoch': 0.65}\n"
     ]
    },
    {
     "data": {
      "application/vnd.jupyter.widget-view+json": {
       "model_id": "50bca45fdb3941a9b9b07f5539061785",
       "version_major": 2,
       "version_minor": 0
      },
      "text/plain": [
       "  0%|          | 0/86 [00:00<?, ?it/s]"
      ]
     },
     "metadata": {},
     "output_type": "display_data"
    },
    {
     "name": "stdout",
     "output_type": "stream",
     "text": [
      "{'eval_loss': 0.6548317074775696, 'eval_runtime': 92.5563, 'eval_samples_per_second': 1.858, 'eval_steps_per_second': 0.929, 'epoch': 1.0}\n",
      "{'loss': 0.985, 'grad_norm': 2.1617467403411865, 'learning_rate': 3.106956933270232e-06, 'epoch': 1.3}\n",
      "{'loss': 0.9032, 'grad_norm': 1.950774073600769, 'learning_rate': 1.923805016564127e-06, 'epoch': 1.95}\n"
     ]
    },
    {
     "data": {
      "application/vnd.jupyter.widget-view+json": {
       "model_id": "4ec129cbbaf54f1d86a4c108683e2773",
       "version_major": 2,
       "version_minor": 0
      },
      "text/plain": [
       "  0%|          | 0/86 [00:00<?, ?it/s]"
      ]
     },
     "metadata": {},
     "output_type": "display_data"
    },
    {
     "name": "stdout",
     "output_type": "stream",
     "text": [
      "{'eval_loss': 0.5445525646209717, 'eval_runtime': 85.5524, 'eval_samples_per_second': 2.01, 'eval_steps_per_second': 1.005, 'epoch': 2.0}\n",
      "{'loss': 0.849, 'grad_norm': 2.110037088394165, 'learning_rate': 7.406530998580218e-07, 'epoch': 2.59}\n"
     ]
    },
    {
     "data": {
      "application/vnd.jupyter.widget-view+json": {
       "model_id": "e65d3e4ebf3c4edba811f1547207e38b",
       "version_major": 2,
       "version_minor": 0
      },
      "text/plain": [
       "  0%|          | 0/86 [00:00<?, ?it/s]"
      ]
     },
     "metadata": {},
     "output_type": "display_data"
    },
    {
     "name": "stdout",
     "output_type": "stream",
     "text": [
      "{'eval_loss': 0.5193162560462952, 'eval_runtime': 85.3749, 'eval_samples_per_second': 2.015, 'eval_steps_per_second': 1.007, 'epoch': 3.0}\n",
      "{'train_runtime': 5991.1663, 'train_samples_per_second': 0.772, 'train_steps_per_second': 0.386, 'train_loss': 1.001284205547618, 'epoch': 3.0}\n"
     ]
    },
    {
     "data": {
      "text/plain": [
       "('./fine_tuned_t5_final\\\\tokenizer_config.json',\n",
       " './fine_tuned_t5_final\\\\special_tokens_map.json',\n",
       " './fine_tuned_t5_final\\\\spiece.model',\n",
       " './fine_tuned_t5_final\\\\added_tokens.json',\n",
       " './fine_tuned_t5_final\\\\tokenizer.json')"
      ]
     },
     "execution_count": 16,
     "metadata": {},
     "output_type": "execute_result"
    }
   ],
   "source": [
    "trainer.train()\n",
    "\n",
    "model.save_pretrained(\"./fine_tuned_t5_final\")\n",
    "tokenizer.save_pretrained(\"./fine_tuned_t5_final\")"
   ]
  },
  {
   "cell_type": "code",
   "execution_count": 1,
   "id": "d5aeaa45-9b1c-49a0-926a-8b96a2490f5d",
   "metadata": {},
   "outputs": [
    {
     "ename": "NameError",
     "evalue": "name 'trainer' is not defined",
     "output_type": "error",
     "traceback": [
      "\u001b[1;31m---------------------------------------------------------------------------\u001b[0m",
      "\u001b[1;31mNameError\u001b[0m                                 Traceback (most recent call last)",
      "Cell \u001b[1;32mIn[1], line 5\u001b[0m\n\u001b[0;32m      1\u001b[0m \u001b[38;5;28;01mfrom\u001b[39;00m \u001b[38;5;21;01mevaluate\u001b[39;00m \u001b[38;5;28;01mimport\u001b[39;00m load\n\u001b[0;32m      3\u001b[0m rouge \u001b[38;5;241m=\u001b[39m load(\u001b[38;5;124m\"\u001b[39m\u001b[38;5;124mrouge\u001b[39m\u001b[38;5;124m\"\u001b[39m)\n\u001b[0;32m      4\u001b[0m results \u001b[38;5;241m=\u001b[39m rouge\u001b[38;5;241m.\u001b[39mcompute(\n\u001b[1;32m----> 5\u001b[0m     predictions\u001b[38;5;241m=\u001b[39m[tokenizer\u001b[38;5;241m.\u001b[39mdecode(g, skip_special_tokens\u001b[38;5;241m=\u001b[39m\u001b[38;5;28;01mTrue\u001b[39;00m) \u001b[38;5;28;01mfor\u001b[39;00m g \u001b[38;5;129;01min\u001b[39;00m \u001b[43mtrainer\u001b[49m\u001b[38;5;241m.\u001b[39mpredict(val_dataset)\u001b[38;5;241m.\u001b[39mpredictions],\n\u001b[0;32m      6\u001b[0m     references\u001b[38;5;241m=\u001b[39m[ex[\u001b[38;5;124m\"\u001b[39m\u001b[38;5;124mSummary\u001b[39m\u001b[38;5;124m\"\u001b[39m] \u001b[38;5;28;01mfor\u001b[39;00m ex \u001b[38;5;129;01min\u001b[39;00m val_dataset],\n\u001b[0;32m      7\u001b[0m )\n\u001b[0;32m      8\u001b[0m \u001b[38;5;28mprint\u001b[39m(results)\n",
      "\u001b[1;31mNameError\u001b[0m: name 'trainer' is not defined"
     ]
    }
   ],
   "source": [
    "from evaluate import load\n",
    "\n",
    "rouge = load(\"rouge\")\n",
    "results = rouge.compute(\n",
    "    predictions=[tokenizer.decode(g, skip_special_tokens=True) for g in trainer.predict(val_dataset).predictions],\n",
    "    references=[ex[\"Summary\"] for ex in val_dataset],\n",
    ")\n",
    "print(results)"
   ]
  },
  {
   "cell_type": "code",
   "execution_count": 2,
   "id": "ff0e6a4e-d23c-4970-b096-92ea14c45592",
   "metadata": {},
   "outputs": [],
   "source": [
    "import nltk\n",
    "from rouge_score import rouge_scorer\n",
    "import absl"
   ]
  },
  {
   "cell_type": "code",
   "execution_count": 5,
   "id": "f4568152-fc95-49b0-9087-cd210ae9b89d",
   "metadata": {},
   "outputs": [],
   "source": [
    "model = AutoModelForSeq2SeqLM.from_pretrained(\"./fine_tuned_t5_final\")\n",
    "tokenizer = AutoTokenizer.from_pretrained(\"./fine_tuned_t5_final\")"
   ]
  },
  {
   "cell_type": "code",
   "execution_count": 6,
   "id": "d672821b-f456-4b88-9c34-353c602df451",
   "metadata": {},
   "outputs": [],
   "source": [
    "def summarize_text(input_text, max_length=1500, min_length=200, num_beams=4):\n",
    "\n",
    "    inputs = tokenizer.encode(\"summarize: \" + input_text, return_tensors=\"pt\", truncation=True)\n",
    "    # Generate the summary\n",
    "    outputs = model.generate(\n",
    "        inputs, \n",
    "        max_length=max_length, \n",
    "        min_length=min_length, \n",
    "        length_penalty=2.0, \n",
    "        num_beams=num_beams, \n",
    "        early_stopping=True\n",
    "    )\n",
    "    # Decode the summary\n",
    "    summary = tokenizer.decode(outputs[0], skip_special_tokens=True)\n",
    "    return summary"
   ]
  },
  {
   "cell_type": "code",
   "execution_count": 7,
   "id": "3f8ec155",
   "metadata": {},
   "outputs": [
    {
     "name": "stdout",
     "output_type": "stream",
     "text": [
      "Input Text:\n",
      " Right-handed batter Gongadi Trisha scripted history as she became the first centurion in the history of Women's U19 T20 World Cup. On Tuesday, the youngster smashed a ton off just 53 balls in India's Super Six clash against Scotland at the Bayuemas Oval in Kuala Lumpur.\n",
      "\n",
      "Right-handed batter Gongadi Trisha scripted history as she became the first centurion in the history of Women's U19 T20 World Cup(ICC - X)\n",
      "Right-handed batter Gongadi Trisha scripted history as she became the first centurion in the history of Women's U19 T20 World Cup(ICC - X)\n",
      "She eventually remained unbeaten on 110 off just 59 balls. Her innings was studded with 13 fours and 4 sixes. She and Sanika Chalke powered India to a commanding total of 208/1 in the allotted twenty overs.\n",
      "Earlier, Scotland had won the toss and opted to field. India openers Kamalini G and Trisha Gongadi started the innings with a bang, hitting boundaries constantly. The duo put on 67 runs in the powerplay.\n",
      "\n",
      "The opening batters put on a stand of 147 runs for the first wicket. Kamalini eventually lost her wicket in the 14th over of the innings as she walked back to the hut after scoring 51 off 42 balls.\n",
      "\n",
      "The opening stand of 147 runs is the highest partnership for any wicket in the ongoing Women's U19 T20 World Cup.\n",
      "\n",
      "Sanika Chalke also remained unbeaten on 29 as India posted more than 200 runs on the board.\n",
      "\n",
      "India register a commanding 150-run win\n",
      "Aayushi Shukla, Vaishnavi Sharma and Gongadi Trisha took all the ten wickets between themselves to bundle out Scotland for 58 inside 14 overs.\n",
      "Aayushi took four wickets, while Vaishnavi and Trisha took three wickets each. For Scotland, opening batters Pippy Kelly and Emma Walsingham were the only ones who seemed cut out to handle the pressure situation.\n",
      "\n",
      "The rest of the batters collapsed in quick succession, and India ultimately registered a comprehensive win. Gongadi Trisha was adjudged as Player of the Match for her perfect all-round effort.\n",
      "\n",
      "India have already qualified for the semi-finals and the defending champions will play their semi-final on Friday, January 31.\n",
      "\n",
      "The final of the tournament is scheduled for Sunday, February 2.\n",
      "\n",
      "\n",
      "Generated Summary:\n",
      "Gongadi Trisha smashed a ton off just 53 balls in India's Super Six clash against Scotland at the Bayuemas Oval in Kuala Lumpur. She eventually remained unbeaten on 110 off just 59 balls. She and Sanika Chalke powered India to a commanding total of 208/1 in the allotted twenty overs. Kamalini G and Trisha Gongadi started the innings with a bang, hitting boundaries constantly. Kamalini G and Trisha Gongadi Trisha smashed a ton off just 53 balls in India's Super Six clash against Scotland at the Bayuemas Oval in Kuala Lumpur. The opening stand of 147 runs is the highest partnership for any wicket in the ongoing Women's U19 T20 World Cup(ICC - X) and Sanika Chalke powered India to a commanding 150-run win.\n"
     ]
    }
   ],
   "source": [
    "input_text = \"\"\" Right-handed batter Gongadi Trisha scripted history as she became the first centurion in the history of Women's U19 T20 World Cup. On Tuesday, the youngster smashed a ton off just 53 balls in India's Super Six clash against Scotland at the Bayuemas Oval in Kuala Lumpur.\n",
    "\n",
    "Right-handed batter Gongadi Trisha scripted history as she became the first centurion in the history of Women's U19 T20 World Cup(ICC - X)\n",
    "Right-handed batter Gongadi Trisha scripted history as she became the first centurion in the history of Women's U19 T20 World Cup(ICC - X)\n",
    "She eventually remained unbeaten on 110 off just 59 balls. Her innings was studded with 13 fours and 4 sixes. She and Sanika Chalke powered India to a commanding total of 208/1 in the allotted twenty overs.\n",
    "Earlier, Scotland had won the toss and opted to field. India openers Kamalini G and Trisha Gongadi started the innings with a bang, hitting boundaries constantly. The duo put on 67 runs in the powerplay.\n",
    "\n",
    "The opening batters put on a stand of 147 runs for the first wicket. Kamalini eventually lost her wicket in the 14th over of the innings as she walked back to the hut after scoring 51 off 42 balls.\n",
    "\n",
    "The opening stand of 147 runs is the highest partnership for any wicket in the ongoing Women's U19 T20 World Cup.\n",
    "\n",
    "Sanika Chalke also remained unbeaten on 29 as India posted more than 200 runs on the board.\n",
    "\n",
    "India register a commanding 150-run win\n",
    "Aayushi Shukla, Vaishnavi Sharma and Gongadi Trisha took all the ten wickets between themselves to bundle out Scotland for 58 inside 14 overs.\n",
    "Aayushi took four wickets, while Vaishnavi and Trisha took three wickets each. For Scotland, opening batters Pippy Kelly and Emma Walsingham were the only ones who seemed cut out to handle the pressure situation.\n",
    "\n",
    "The rest of the batters collapsed in quick succession, and India ultimately registered a comprehensive win. Gongadi Trisha was adjudged as Player of the Match for her perfect all-round effort.\n",
    "\n",
    "India have already qualified for the semi-finals and the defending champions will play their semi-final on Friday, January 31.\n",
    "\n",
    "The final of the tournament is scheduled for Sunday, February 2.\n",
    "\"\"\"\n",
    "summary = summarize_text(input_text)\n",
    "\n",
    "print(\"Input Text:\")\n",
    "print(input_text)\n",
    "print(\"\\nGenerated Summary:\")\n",
    "print(summary)"
   ]
  },
  {
   "cell_type": "code",
   "execution_count": null,
   "id": "832d268d",
   "metadata": {},
   "outputs": [],
   "source": []
  }
 ],
 "metadata": {
  "kernelspec": {
   "display_name": "Python 3 (ipykernel)",
   "language": "python",
   "name": "python3"
  },
  "language_info": {
   "codemirror_mode": {
    "name": "ipython",
    "version": 3
   },
   "file_extension": ".py",
   "mimetype": "text/x-python",
   "name": "python",
   "nbconvert_exporter": "python",
   "pygments_lexer": "ipython3",
   "version": "3.8.19"
  }
 },
 "nbformat": 4,
 "nbformat_minor": 5
}
