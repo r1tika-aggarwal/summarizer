{
 "cells": [
  {
   "cell_type": "code",
   "execution_count": 14,
   "id": "30d5bc4a-81eb-4601-8c2f-15b971afa40f",
   "metadata": {},
   "outputs": [],
   "source": [
    "import os\n",
    "import pandas as pd"
   ]
  },
  {
   "cell_type": "code",
   "execution_count": 28,
   "id": "e0936258-31a0-4e34-8d3c-e1515d53b919",
   "metadata": {},
   "outputs": [],
   "source": [
    "news_dir = \"BBC News Summary/BBC News Summary/News Articles\"\n",
    "summary_dir = \"BBC News Summary/BBC News Summary/Summaries\""
   ]
  },
  {
   "cell_type": "code",
   "execution_count": 30,
   "id": "5076b330-a3ff-4d4d-a9ee-9321dc557b98",
   "metadata": {},
   "outputs": [
    {
     "name": "stdout",
     "output_type": "stream",
     "text": [
      "Processing category: business\n",
      "CSV file created for category 'business' at: business.csv\n",
      "Processing category: entertainment\n",
      "CSV file created for category 'entertainment' at: entertainment.csv\n",
      "Processing category: politics\n",
      "CSV file created for category 'politics' at: politics.csv\n",
      "Processing category: sport\n",
      "Skipping: .ipynb_checkpoints (matching file not found in 'summary')\n",
      "CSV file created for category 'sport' at: sport.csv\n",
      "Processing category: tech\n",
      "CSV file created for category 'tech' at: tech.csv\n"
     ]
    }
   ],
   "source": [
    "# Ensure the folders exist\n",
    "if not os.path.exists(news_dir) or not os.path.exists(summary_dir):\n",
    "    print(\"Error: 'news' or 'summary' folder not found.\")\n",
    "    exit()\n",
    "\n",
    "# Iterate through each category\n",
    "for category in os.listdir(news_dir):\n",
    "    news_category_path = os.path.join(news_dir, category)\n",
    "    summary_category_path = os.path.join(summary_dir, category)\n",
    "    \n",
    "    # Ensure the category exists in both folders\n",
    "    if os.path.isdir(news_category_path) and os.path.isdir(summary_category_path):\n",
    "        print(f\"Processing category: {category}\")\n",
    "        \n",
    "        # List to store the data for the current category\n",
    "        data = []\n",
    "        \n",
    "        # Get all text files in the current category\n",
    "        news_files = os.listdir(news_category_path)\n",
    "        \n",
    "        for news_file in news_files:\n",
    "            # Full paths to the news and corresponding summary files\n",
    "            news_file_path = os.path.join(news_category_path, news_file)\n",
    "            summary_file_path = os.path.join(summary_category_path, news_file)\n",
    "            \n",
    "            # Check if both files exist\n",
    "            if os.path.isfile(news_file_path) and os.path.isfile(summary_file_path):\n",
    "                try:\n",
    "                    # Read the news file content\n",
    "                    with open(news_file_path, 'r', encoding='utf-8', errors='replace') as nf:\n",
    "                        news_content = nf.read()\n",
    "                    \n",
    "                    # Read the summary file content\n",
    "                    with open(summary_file_path, 'r', encoding='utf-8', errors='replace') as sf:\n",
    "                        summary_content = sf.read()\n",
    "                    \n",
    "                    # Append the data to the list\n",
    "                    data.append({\n",
    "                        \"News\": news_content,\n",
    "                        \"Summary\": summary_content\n",
    "                    })\n",
    "                except Exception as e:\n",
    "                    print(f\"Error reading files {news_file}: {e}\")\n",
    "            else:\n",
    "                print(f\"Skipping: {news_file} (matching file not found in 'summary')\")\n",
    "        \n",
    "        # Save the data for the current category to a CSV file\n",
    "        if data:\n",
    "            df = pd.DataFrame(data)\n",
    "            output_csv_path = f\"{category}.csv\"\n",
    "            df.to_csv(output_csv_path, index=False, encoding='utf-8')\n",
    "            print(f\"CSV file created for category '{category}' at: {output_csv_path}\")\n",
    "        else:\n",
    "            print(f\"No data for category '{category}'. Skipping.\")\n",
    "    else:\n",
    "        print(f\"Skipping category: {category} (missing corresponding folder in 'summary')\")"
   ]
  },
  {
   "cell_type": "code",
   "execution_count": 32,
   "id": "b8021052-71aa-4f6f-9a5c-8502e45b737b",
   "metadata": {},
   "outputs": [
    {
     "name": "stdout",
     "output_type": "stream",
     "text": [
      "File not found: sports.csv\n",
      "All files merged into: newsSummary.csv\n"
     ]
    }
   ],
   "source": [
    "csv_files = [\"business.csv\", \"entertainment.csv\", \"politics.csv\", \"sports.csv\", \"tech.csv\"]\n",
    "\n",
    "dataframes = []\n",
    "\n",
    "for file in csv_files:\n",
    "    try:\n",
    "        df = pd.read_csv(file)\n",
    "        dataframes.append(df)\n",
    "    except FileNotFoundError:\n",
    "        print(f\"File not found: {file}\")\n",
    "    except Exception as e:\n",
    "        print(f\"Error reading {file}: {e}\")\n",
    "\n",
    "# Concatenate all DataFrames\n",
    "merged_df = pd.concat(dataframes, ignore_index=True)\n",
    "\n",
    "# Save the merged DataFrame to a new CSV file\n",
    "merged_csv_path = \"newsSummary.csv\"\n",
    "merged_df.to_csv(merged_csv_path, index=False, encoding='utf-8')\n",
    "\n",
    "print(f\"All files merged into: {merged_csv_path}\")"
   ]
  },
  {
   "cell_type": "code",
   "execution_count": 34,
   "id": "cb9a68ad-37ba-46ac-a923-5759331515fa",
   "metadata": {},
   "outputs": [],
   "source": [
    "data = pd.read_csv(\"newsSummary.csv\")"
   ]
  },
  {
   "cell_type": "code",
   "execution_count": 36,
   "id": "dc3f243e-2603-415f-8bfd-e6f4391b6e49",
   "metadata": {},
   "outputs": [
    {
     "data": {
      "text/html": [
       "<div>\n",
       "<style scoped>\n",
       "    .dataframe tbody tr th:only-of-type {\n",
       "        vertical-align: middle;\n",
       "    }\n",
       "\n",
       "    .dataframe tbody tr th {\n",
       "        vertical-align: top;\n",
       "    }\n",
       "\n",
       "    .dataframe thead th {\n",
       "        text-align: right;\n",
       "    }\n",
       "</style>\n",
       "<table border=\"1\" class=\"dataframe\">\n",
       "  <thead>\n",
       "    <tr style=\"text-align: right;\">\n",
       "      <th></th>\n",
       "      <th>News</th>\n",
       "      <th>Summary</th>\n",
       "    </tr>\n",
       "  </thead>\n",
       "  <tbody>\n",
       "    <tr>\n",
       "      <th>0</th>\n",
       "      <td>Ad sales boost Time Warner profit\\n\\nQuarterly...</td>\n",
       "      <td>TimeWarner said fourth quarter sales rose 2% t...</td>\n",
       "    </tr>\n",
       "    <tr>\n",
       "      <th>1</th>\n",
       "      <td>Dollar gains on Greenspan speech\\n\\nThe dollar...</td>\n",
       "      <td>The dollar has hit its highest level against t...</td>\n",
       "    </tr>\n",
       "    <tr>\n",
       "      <th>2</th>\n",
       "      <td>Yukos unit buyer faces loan claim\\n\\nThe owner...</td>\n",
       "      <td>Yukos' owner Menatep Group says it will ask Ro...</td>\n",
       "    </tr>\n",
       "    <tr>\n",
       "      <th>3</th>\n",
       "      <td>High fuel prices hit BA's profits\\n\\nBritish A...</td>\n",
       "      <td>Rod Eddington, BA's chief executive, said the ...</td>\n",
       "    </tr>\n",
       "    <tr>\n",
       "      <th>4</th>\n",
       "      <td>Pernod takeover talk lifts Domecq\\n\\nShares in...</td>\n",
       "      <td>Pernod has reduced the debt it took on to fund...</td>\n",
       "    </tr>\n",
       "  </tbody>\n",
       "</table>\n",
       "</div>"
      ],
      "text/plain": [
       "                                                News  \\\n",
       "0  Ad sales boost Time Warner profit\\n\\nQuarterly...   \n",
       "1  Dollar gains on Greenspan speech\\n\\nThe dollar...   \n",
       "2  Yukos unit buyer faces loan claim\\n\\nThe owner...   \n",
       "3  High fuel prices hit BA's profits\\n\\nBritish A...   \n",
       "4  Pernod takeover talk lifts Domecq\\n\\nShares in...   \n",
       "\n",
       "                                             Summary  \n",
       "0  TimeWarner said fourth quarter sales rose 2% t...  \n",
       "1  The dollar has hit its highest level against t...  \n",
       "2  Yukos' owner Menatep Group says it will ask Ro...  \n",
       "3  Rod Eddington, BA's chief executive, said the ...  \n",
       "4  Pernod has reduced the debt it took on to fund...  "
      ]
     },
     "execution_count": 36,
     "metadata": {},
     "output_type": "execute_result"
    }
   ],
   "source": [
    "data.head()"
   ]
  },
  {
   "cell_type": "code",
   "execution_count": 38,
   "id": "7a3aacb1-ed6f-49f9-85ee-b57f01ca0bd1",
   "metadata": {},
   "outputs": [
    {
     "data": {
      "text/html": [
       "<div>\n",
       "<style scoped>\n",
       "    .dataframe tbody tr th:only-of-type {\n",
       "        vertical-align: middle;\n",
       "    }\n",
       "\n",
       "    .dataframe tbody tr th {\n",
       "        vertical-align: top;\n",
       "    }\n",
       "\n",
       "    .dataframe thead th {\n",
       "        text-align: right;\n",
       "    }\n",
       "</style>\n",
       "<table border=\"1\" class=\"dataframe\">\n",
       "  <thead>\n",
       "    <tr style=\"text-align: right;\">\n",
       "      <th></th>\n",
       "      <th>News</th>\n",
       "      <th>Summary</th>\n",
       "    </tr>\n",
       "  </thead>\n",
       "  <tbody>\n",
       "    <tr>\n",
       "      <th>11</th>\n",
       "      <td>Indonesians face fuel price rise\\n\\nIndonesia'...</td>\n",
       "      <td>Indonesia's government has confirmed it is con...</td>\n",
       "    </tr>\n",
       "    <tr>\n",
       "      <th>716</th>\n",
       "      <td>Jungle TV show ratings drop by 4m\\n\\nThe final...</td>\n",
       "      <td>Pasquale follows Kerry McFadden, Phil Tufnell ...</td>\n",
       "    </tr>\n",
       "    <tr>\n",
       "      <th>1222</th>\n",
       "      <td>Goldsmith denies war advice claim\\n\\nThe attor...</td>\n",
       "      <td>Former minister Clare Short, who resigned from...</td>\n",
       "    </tr>\n",
       "    <tr>\n",
       "      <th>292</th>\n",
       "      <td>Glazer makes new Man Utd approach\\n\\nMalcolm G...</td>\n",
       "      <td>Malcolm Glazer has made a fresh approach to bu...</td>\n",
       "    </tr>\n",
       "    <tr>\n",
       "      <th>726</th>\n",
       "      <td>Baywatch dubbed 'worst TV import'\\n\\nSurf show...</td>\n",
       "      <td>The Jerry Springer Show, which came in at sixt...</td>\n",
       "    </tr>\n",
       "    <tr>\n",
       "      <th>1549</th>\n",
       "      <td>Microsoft takes on desktop search\\n\\nMicrosoft...</td>\n",
       "      <td>Search giant Google launched its desktop searc...</td>\n",
       "    </tr>\n",
       "    <tr>\n",
       "      <th>821</th>\n",
       "      <td>Smith loses US box office crown\\n\\nNew comedy ...</td>\n",
       "      <td>After topping the chart for two consecutive we...</td>\n",
       "    </tr>\n",
       "    <tr>\n",
       "      <th>1086</th>\n",
       "      <td>Short attacks US over tsunami aid\\n\\nFormer Ca...</td>\n",
       "      <td>But Ms Short said the effect of the parallel c...</td>\n",
       "    </tr>\n",
       "    <tr>\n",
       "      <th>875</th>\n",
       "      <td>Bollywood DVD fraudster is jailed\\n\\nA major d...</td>\n",
       "      <td>Buhecha was previously a legitimate distributo...</td>\n",
       "    </tr>\n",
       "    <tr>\n",
       "      <th>585</th>\n",
       "      <td>Fockers fuel festive film chart\\n\\nComedy Meet...</td>\n",
       "      <td>It took $19.1m (£9.9m) on Christmas Day alone,...</td>\n",
       "    </tr>\n",
       "  </tbody>\n",
       "</table>\n",
       "</div>"
      ],
      "text/plain": [
       "                                                   News  \\\n",
       "11    Indonesians face fuel price rise\\n\\nIndonesia'...   \n",
       "716   Jungle TV show ratings drop by 4m\\n\\nThe final...   \n",
       "1222  Goldsmith denies war advice claim\\n\\nThe attor...   \n",
       "292   Glazer makes new Man Utd approach\\n\\nMalcolm G...   \n",
       "726   Baywatch dubbed 'worst TV import'\\n\\nSurf show...   \n",
       "1549  Microsoft takes on desktop search\\n\\nMicrosoft...   \n",
       "821   Smith loses US box office crown\\n\\nNew comedy ...   \n",
       "1086  Short attacks US over tsunami aid\\n\\nFormer Ca...   \n",
       "875   Bollywood DVD fraudster is jailed\\n\\nA major d...   \n",
       "585   Fockers fuel festive film chart\\n\\nComedy Meet...   \n",
       "\n",
       "                                                Summary  \n",
       "11    Indonesia's government has confirmed it is con...  \n",
       "716   Pasquale follows Kerry McFadden, Phil Tufnell ...  \n",
       "1222  Former minister Clare Short, who resigned from...  \n",
       "292   Malcolm Glazer has made a fresh approach to bu...  \n",
       "726   The Jerry Springer Show, which came in at sixt...  \n",
       "1549  Search giant Google launched its desktop searc...  \n",
       "821   After topping the chart for two consecutive we...  \n",
       "1086  But Ms Short said the effect of the parallel c...  \n",
       "875   Buhecha was previously a legitimate distributo...  \n",
       "585   It took $19.1m (£9.9m) on Christmas Day alone,...  "
      ]
     },
     "execution_count": 38,
     "metadata": {},
     "output_type": "execute_result"
    }
   ],
   "source": [
    "data.sample(10)"
   ]
  },
  {
   "cell_type": "code",
   "execution_count": 40,
   "id": "2ac55fd7-6bee-428a-8e1a-ecdff46066aa",
   "metadata": {},
   "outputs": [
    {
     "data": {
      "text/plain": [
       "(1714, 2)"
      ]
     },
     "execution_count": 40,
     "metadata": {},
     "output_type": "execute_result"
    }
   ],
   "source": [
    "data.shape"
   ]
  },
  {
   "cell_type": "code",
   "execution_count": 44,
   "id": "dbc1868f-d9cb-4763-aae2-bb5b57481ff7",
   "metadata": {},
   "outputs": [],
   "source": [
    "data = data.dropna(axis=1)"
   ]
  },
  {
   "cell_type": "code",
   "execution_count": 46,
   "id": "ffe23d5b-be5c-49f8-8d53-beeeef04ba61",
   "metadata": {},
   "outputs": [
    {
     "data": {
      "text/plain": [
       "(1714, 2)"
      ]
     },
     "execution_count": 46,
     "metadata": {},
     "output_type": "execute_result"
    }
   ],
   "source": [
    "data.shape"
   ]
  },
  {
   "cell_type": "code",
   "execution_count": 48,
   "id": "f73cf0d2-7227-45a0-8eec-145773a153c4",
   "metadata": {},
   "outputs": [],
   "source": [
    "data = data.dropna(how='all')  # Removes rows where all values are NaN\n",
    "data = data[~data.applymap(lambda x: str(x).strip() == '').all(axis=1)]  # Removes rows with blank values\n",
    "\n",
    "# Clean individual column entries by stripping leading/trailing whitespaces\n",
    "data = data.applymap(lambda x: x.strip() if isinstance(x, str) else x)"
   ]
  },
  {
   "cell_type": "code",
   "execution_count": 50,
   "id": "c1ae1a48-9b94-44a7-a099-7305613b2c3b",
   "metadata": {},
   "outputs": [
    {
     "data": {
      "text/plain": [
       "(1714, 2)"
      ]
     },
     "execution_count": 50,
     "metadata": {},
     "output_type": "execute_result"
    }
   ],
   "source": [
    "data.shape"
   ]
  },
  {
   "cell_type": "code",
   "execution_count": 58,
   "id": "538bbd6a-b505-4b4d-b321-a4d5cd353d4b",
   "metadata": {},
   "outputs": [
    {
     "data": {
      "text/html": [
       "<div>\n",
       "<style scoped>\n",
       "    .dataframe tbody tr th:only-of-type {\n",
       "        vertical-align: middle;\n",
       "    }\n",
       "\n",
       "    .dataframe tbody tr th {\n",
       "        vertical-align: top;\n",
       "    }\n",
       "\n",
       "    .dataframe thead th {\n",
       "        text-align: right;\n",
       "    }\n",
       "</style>\n",
       "<table border=\"1\" class=\"dataframe\">\n",
       "  <thead>\n",
       "    <tr style=\"text-align: right;\">\n",
       "      <th></th>\n",
       "      <th>News</th>\n",
       "      <th>Summary</th>\n",
       "    </tr>\n",
       "  </thead>\n",
       "  <tbody>\n",
       "    <tr>\n",
       "      <th>1649</th>\n",
       "      <td>Can Yahoo dominate next decade? Yahoo has reac...</td>\n",
       "      <td>Both began life as search engines although in ...</td>\n",
       "    </tr>\n",
       "    <tr>\n",
       "      <th>1550</th>\n",
       "      <td>Gamers snap up new Sony PSP Gamers have bought...</td>\n",
       "      <td>Nintendo's goal is to ship 5 million of its ne...</td>\n",
       "    </tr>\n",
       "    <tr>\n",
       "      <th>270</th>\n",
       "      <td>Arsenal 'may seek full share listing' Arsenal ...</td>\n",
       "      <td>Speaking at the Soccerex football business for...</td>\n",
       "    </tr>\n",
       "    <tr>\n",
       "      <th>300</th>\n",
       "      <td>Libya takes $1bn in unfrozen funds Libya has w...</td>\n",
       "      <td>Libya has withdrawn $1bn in assets from the US...</td>\n",
       "    </tr>\n",
       "    <tr>\n",
       "      <th>1109</th>\n",
       "      <td>Custody death rate 'shocks' MPs Deaths in cust...</td>\n",
       "      <td>\"Yet throughout our inquiry we have seen time ...</td>\n",
       "    </tr>\n",
       "    <tr>\n",
       "      <th>1007</th>\n",
       "      <td>Blair 'damaged' by Blunkett row A majority of ...</td>\n",
       "      <td>A total of 53% of those polled said they had s...</td>\n",
       "    </tr>\n",
       "    <tr>\n",
       "      <th>1123</th>\n",
       "      <td>Labour pig poster 'anti-Semitic' The Labour Pa...</td>\n",
       "      <td>Labour said the poster was \"not anti-Jewish, b...</td>\n",
       "    </tr>\n",
       "    <tr>\n",
       "      <th>359</th>\n",
       "      <td>Record year for Chilean copper Chile's copper ...</td>\n",
       "      <td>Chile's copper industry has registered record ...</td>\n",
       "    </tr>\n",
       "    <tr>\n",
       "      <th>1215</th>\n",
       "      <td>Hague's six-figure earnings shown The rewards ...</td>\n",
       "      <td>Mr Hague was also paid an undisclosed amount f...</td>\n",
       "    </tr>\n",
       "    <tr>\n",
       "      <th>1593</th>\n",
       "      <td>Cyber crime booms in 2004 The last 12 months h...</td>\n",
       "      <td>Part of the reason that these \"bot nets\" have ...</td>\n",
       "    </tr>\n",
       "    <tr>\n",
       "      <th>292</th>\n",
       "      <td>Glazer makes new Man Utd approach Malcolm Glaz...</td>\n",
       "      <td>Malcolm Glazer has made a fresh approach to bu...</td>\n",
       "    </tr>\n",
       "    <tr>\n",
       "      <th>391</th>\n",
       "      <td>Deutsche Boerse set to 'woo' LSE Bosses of Deu...</td>\n",
       "      <td>Bosses of Deutsche Boerse and the London Stock...</td>\n",
       "    </tr>\n",
       "    <tr>\n",
       "      <th>1452</th>\n",
       "      <td>Players sought for $1m prize UK gamers are get...</td>\n",
       "      <td>Philip Wride, who co-manages the Four-Kings te...</td>\n",
       "    </tr>\n",
       "    <tr>\n",
       "      <th>777</th>\n",
       "      <td>Black Sabbath top rock album poll Black Sabbat...</td>\n",
       "      <td>The band once fronted by Ozzy Osbourne led a p...</td>\n",
       "    </tr>\n",
       "    <tr>\n",
       "      <th>1477</th>\n",
       "      <td>'Brainwave' cap controls computer A team of US...</td>\n",
       "      <td>Although the two partially-paralysed people pe...</td>\n",
       "    </tr>\n",
       "    <tr>\n",
       "      <th>22</th>\n",
       "      <td>Mixed signals from French economy The French e...</td>\n",
       "      <td>Despite the apparent shortfall in annual econo...</td>\n",
       "    </tr>\n",
       "    <tr>\n",
       "      <th>32</th>\n",
       "      <td>Rich grab half Colombia poor fund Half of the ...</td>\n",
       "      <td>A total of 24.2 trillion pesos ($10.2bn; £5.5b...</td>\n",
       "    </tr>\n",
       "    <tr>\n",
       "      <th>1573</th>\n",
       "      <td>Speech takes on search engines A Scottish firm...</td>\n",
       "      <td>Called Speegle, it has the look and feel of a ...</td>\n",
       "    </tr>\n",
       "    <tr>\n",
       "      <th>920</th>\n",
       "      <td>UK 'needs true immigration data' A former Home...</td>\n",
       "      <td>She said this would counter \"so-called indepen...</td>\n",
       "    </tr>\n",
       "    <tr>\n",
       "      <th>737</th>\n",
       "      <td>Joy Division story to become film The life of ...</td>\n",
       "      <td>The life of late Joy Division singer Ian Curti...</td>\n",
       "    </tr>\n",
       "  </tbody>\n",
       "</table>\n",
       "</div>"
      ],
      "text/plain": [
       "                                                   News  \\\n",
       "1649  Can Yahoo dominate next decade? Yahoo has reac...   \n",
       "1550  Gamers snap up new Sony PSP Gamers have bought...   \n",
       "270   Arsenal 'may seek full share listing' Arsenal ...   \n",
       "300   Libya takes $1bn in unfrozen funds Libya has w...   \n",
       "1109  Custody death rate 'shocks' MPs Deaths in cust...   \n",
       "1007  Blair 'damaged' by Blunkett row A majority of ...   \n",
       "1123  Labour pig poster 'anti-Semitic' The Labour Pa...   \n",
       "359   Record year for Chilean copper Chile's copper ...   \n",
       "1215  Hague's six-figure earnings shown The rewards ...   \n",
       "1593  Cyber crime booms in 2004 The last 12 months h...   \n",
       "292   Glazer makes new Man Utd approach Malcolm Glaz...   \n",
       "391   Deutsche Boerse set to 'woo' LSE Bosses of Deu...   \n",
       "1452  Players sought for $1m prize UK gamers are get...   \n",
       "777   Black Sabbath top rock album poll Black Sabbat...   \n",
       "1477  'Brainwave' cap controls computer A team of US...   \n",
       "22    Mixed signals from French economy The French e...   \n",
       "32    Rich grab half Colombia poor fund Half of the ...   \n",
       "1573  Speech takes on search engines A Scottish firm...   \n",
       "920   UK 'needs true immigration data' A former Home...   \n",
       "737   Joy Division story to become film The life of ...   \n",
       "\n",
       "                                                Summary  \n",
       "1649  Both began life as search engines although in ...  \n",
       "1550  Nintendo's goal is to ship 5 million of its ne...  \n",
       "270   Speaking at the Soccerex football business for...  \n",
       "300   Libya has withdrawn $1bn in assets from the US...  \n",
       "1109  \"Yet throughout our inquiry we have seen time ...  \n",
       "1007  A total of 53% of those polled said they had s...  \n",
       "1123  Labour said the poster was \"not anti-Jewish, b...  \n",
       "359   Chile's copper industry has registered record ...  \n",
       "1215  Mr Hague was also paid an undisclosed amount f...  \n",
       "1593  Part of the reason that these \"bot nets\" have ...  \n",
       "292   Malcolm Glazer has made a fresh approach to bu...  \n",
       "391   Bosses of Deutsche Boerse and the London Stock...  \n",
       "1452  Philip Wride, who co-manages the Four-Kings te...  \n",
       "777   The band once fronted by Ozzy Osbourne led a p...  \n",
       "1477  Although the two partially-paralysed people pe...  \n",
       "22    Despite the apparent shortfall in annual econo...  \n",
       "32    A total of 24.2 trillion pesos ($10.2bn; £5.5b...  \n",
       "1573  Called Speegle, it has the look and feel of a ...  \n",
       "920   She said this would counter \"so-called indepen...  \n",
       "737   The life of late Joy Division singer Ian Curti...  "
      ]
     },
     "execution_count": 58,
     "metadata": {},
     "output_type": "execute_result"
    }
   ],
   "source": [
    "data.sample(20)"
   ]
  },
  {
   "cell_type": "code",
   "execution_count": 54,
   "id": "e3f61ad6-f1fd-4650-ab46-7434add170ca",
   "metadata": {},
   "outputs": [],
   "source": [
    "data = data.applymap(lambda x: x.replace('\\n\\n', ' ') if isinstance(x, str) else x)"
   ]
  },
  {
   "cell_type": "code",
   "execution_count": 60,
   "id": "d4ee8a85-9437-44e3-835e-fcb020a868a3",
   "metadata": {},
   "outputs": [],
   "source": [
    "data.to_csv('cleaned_data.csv', index=False)"
   ]
  },
  {
   "cell_type": "code",
   "execution_count": 62,
   "id": "0507f1d9-daa5-433e-a984-7a37c06f53aa",
   "metadata": {},
   "outputs": [
    {
     "name": "stdout",
     "output_type": "stream",
     "text": [
      "Average length of Column1: 2368.995332555426\n",
      "Average length of Column2: 1043.7432905484247\n"
     ]
    }
   ],
   "source": [
    "average_length_column1 = data['News'].apply(lambda x: len(str(x))).mean()\n",
    "average_length_column2 = data['Summary'].apply(lambda x: len(str(x))).mean()\n",
    "\n",
    "print(f\"Average length of Column1: {average_length_column1}\")\n",
    "print(f\"Average length of Column2: {average_length_column2}\")"
   ]
  },
  {
   "cell_type": "code",
   "execution_count": 64,
   "id": "cba4558f-ffcf-4462-b2bf-71d6ef55c2db",
   "metadata": {},
   "outputs": [],
   "source": [
    "#news 2369 summary 1044"
   ]
  },
  {
   "cell_type": "code",
   "execution_count": null,
   "id": "ee3ac593-0381-4880-b227-2564705e209b",
   "metadata": {},
   "outputs": [],
   "source": []
  }
 ],
 "metadata": {
  "kernelspec": {
   "display_name": "Python 3 (ipykernel)",
   "language": "python",
   "name": "python3"
  },
  "language_info": {
   "codemirror_mode": {
    "name": "ipython",
    "version": 3
   },
   "file_extension": ".py",
   "mimetype": "text/x-python",
   "name": "python",
   "nbconvert_exporter": "python",
   "pygments_lexer": "ipython3",
   "version": "3.11.7"
  }
 },
 "nbformat": 4,
 "nbformat_minor": 5
}
