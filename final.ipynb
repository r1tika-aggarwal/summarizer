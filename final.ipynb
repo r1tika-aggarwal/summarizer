{
 "cells": [
  {
   "cell_type": "code",
   "execution_count": 1,
   "id": "1cc19a13-9737-44e4-835a-fdda6d48f97f",
   "metadata": {},
   "outputs": [],
   "source": [
    "import pyaudio"
   ]
  },
  {
   "cell_type": "code",
   "execution_count": 58,
   "id": "cda44aa3-b46c-4e30-951c-445b9a433f64",
   "metadata": {},
   "outputs": [],
   "source": [
    "frames_per_buffer = 3200"
   ]
  },
  {
   "cell_type": "code",
   "execution_count": 59,
   "id": "f6a42bad-05ca-44bc-aba3-510868dd1e44",
   "metadata": {},
   "outputs": [],
   "source": [
    "format = pyaudio.paInt16\n",
    "channels = 1\n",
    "rate = 16000\n",
    "p = pyaudio.PyAudio()"
   ]
  },
  {
   "cell_type": "code",
   "execution_count": 60,
   "id": "b4f2c5de-e081-427a-9aec-f795a7cb0a17",
   "metadata": {},
   "outputs": [],
   "source": [
    "import wave"
   ]
  },
  {
   "cell_type": "code",
   "execution_count": 61,
   "id": "66822520-ef52-4c4f-a0e3-a25ceca9f678",
   "metadata": {},
   "outputs": [
    {
     "name": "stdout",
     "output_type": "stream",
     "text": [
      "enter number of minutes of audio 1\n"
     ]
    },
    {
     "name": "stdout",
     "output_type": "stream",
     "text": [
      "start recording\n"
     ]
    }
   ],
   "source": [
    "min = int(input(\"enter number of minutes of audio\"))\n",
    "seconds = min * 60\n",
    "stream = p.open(\n",
    "    format = format,\n",
    "    channels = channels,\n",
    "    rate = rate,\n",
    "    input = True,\n",
    "    frames_per_buffer = frames_per_buffer\n",
    ")\n",
    "print(\"start recording\")\n",
    "frames = []\n",
    "for i in range(0, int(rate/frames_per_buffer*seconds)):\n",
    "    data = stream.read(frames_per_buffer)\n",
    "    frames.append(data)\n",
    "\n",
    "stream.stop_stream()\n",
    "stream.close()\n",
    "p.terminate()\n",
    "\n",
    "obj= wave.open(\"input.wav\", \"wb\")\n",
    "obj.setnchannels (channels)\n",
    "obj.setsampwidth(p.get_sample_size(format))\n",
    "obj.setframerate (rate)\n",
    "obj.writeframes(b\"\".join(frames))\n",
    "obj.close()"
   ]
  },
  {
   "cell_type": "code",
   "execution_count": 62,
   "id": "cfab76bd-69c7-4913-bdb3-3e1c7deb9cb5",
   "metadata": {},
   "outputs": [],
   "source": [
    "import assemblyai as aai"
   ]
  },
  {
   "cell_type": "code",
   "execution_count": 63,
   "id": "1133d63d-2455-4c41-8274-2c5c3377cf41",
   "metadata": {},
   "outputs": [],
   "source": [
    "aai.settings.api_key = secret"
   ]
  },
  {
   "cell_type": "code",
   "execution_count": 64,
   "id": "7056c2b6-d22d-4546-b92a-25bc4a9a13bd",
   "metadata": {},
   "outputs": [],
   "source": [
    "audio_file = (\n",
    "    \"input.wav\"\n",
    ")"
   ]
  },
  {
   "cell_type": "code",
   "execution_count": 65,
   "id": "f714fd67-06c7-411f-a4c8-c7d09ec41496",
   "metadata": {},
   "outputs": [
    {
     "name": "stdout",
     "output_type": "stream",
     "text": [
      "Hello, my name is Ritika Garwal. I am from Maharaja Surajmar Institute of Technology and right now studying Bachelor's of Technology in Electronics and Communication Engineering. I hope you are getting what I am saying. And I want a summary of this thing. Please help me write it. And let's hope one minute is over. And please let's hope this as well that my model performs well. It is very much required for it to be working with to have it on my resume. Thank you so much and have a very nice day. Why is it not? It's chopping. I don't know. Weird. I guess one minute was not over. Should I say something more or should I not?\n"
     ]
    }
   ],
   "source": [
    "transcriber = aai.Transcriber()\n",
    "\n",
    "transcript = transcriber.transcribe(audio_file)\n",
    "\n",
    "if transcript.status == aai.TranscriptStatus.error:\n",
    "    print(f\"Transcription failed: {transcript.error}\")\n",
    "    exit(1)\n",
    "\n",
    "print(transcript.text)"
   ]
  },
  {
   "cell_type": "code",
   "execution_count": 66,
   "id": "a54d4004-62a5-4899-92f5-98f7ab91dc70",
   "metadata": {},
   "outputs": [],
   "source": [
    "text = transcript.text"
   ]
  },
  {
   "cell_type": "code",
   "execution_count": 67,
   "id": "dfb00940-9472-41d4-9741-b55ebc46103a",
   "metadata": {},
   "outputs": [],
   "source": [
    "# text = \"\"\" hello \"\"\"\""
   ]
  },
  {
   "cell_type": "code",
   "execution_count": 68,
   "id": "ffdacdc5-66fe-4b60-a500-89fb68923e73",
   "metadata": {},
   "outputs": [],
   "source": [
    "from transformers import AutoModelForSeq2SeqLM, AutoTokenizer"
   ]
  },
  {
   "cell_type": "code",
   "execution_count": 69,
   "id": "8012a840-0289-4a26-9bf6-61df13636e53",
   "metadata": {},
   "outputs": [],
   "source": [
    "model = AutoModelForSeq2SeqLM.from_pretrained(\"./fine_tuned_t5_final\")\n",
    "tokenizer = AutoTokenizer.from_pretrained(\"./fine_tuned_t5_final\")"
   ]
  },
  {
   "cell_type": "code",
   "execution_count": 70,
   "id": "9f72b005-8162-4745-9a5a-970e6d3e900d",
   "metadata": {},
   "outputs": [],
   "source": [
    "def summarize_text(input_text, max_length=1500, min_length=20, num_beams=4):\n",
    "\n",
    "    inputs = tokenizer.encode(\"summarize: \" + input_text, return_tensors=\"pt\", truncation=True)\n",
    "    # Generate the summary\n",
    "    outputs = model.generate(\n",
    "        inputs, \n",
    "        max_length=max_length, \n",
    "        min_length=min_length, \n",
    "        length_penalty=2.0, \n",
    "        num_beams=num_beams, \n",
    "        early_stopping=True\n",
    "    )\n",
    "    # Decode the summary\n",
    "    summary = tokenizer.decode(outputs[0], skip_special_tokens=True)\n",
    "    return summary"
   ]
  },
  {
   "cell_type": "code",
   "execution_count": 71,
   "id": "57f8aefd-35ac-4246-b76a-4e84a53e07e7",
   "metadata": {},
   "outputs": [
    {
     "name": "stdout",
     "output_type": "stream",
     "text": [
      "\n",
      "Generated Summary:\n",
      "Ritika Garwal is from Maharaja Surajmar Institute of Technology and is studying Bachelor's of Technology in Electronics and Communication Engineering. Ritika Garwal is from Maharaja Surajmar Institute of Technology and right now studying Bachelor's of Technology in Electronics and Communication Engineering. Ritika asks Ritika to help her write it and let's hope this as well that her model perform well. Ritika asks Ritika to help her write it. Ritika asks Ritika to help her write it. Ritika asks for a summary of this thing.\n"
     ]
    }
   ],
   "source": [
    "summary = summarize_text(text)\n",
    "print(\"\\nGenerated Summary:\")\n",
    "print(summary)"
   ]
  },
  {
   "cell_type": "code",
   "execution_count": 14,
   "id": "c88b332a-3d2a-4826-bbca-a29008c31935",
   "metadata": {},
   "outputs": [],
   "source": [
    "from gtts import gTTS"
   ]
  },
  {
   "cell_type": "code",
   "execution_count": 15,
   "id": "8dac85a2-abdf-4485-ba96-fe9671191c3e",
   "metadata": {},
   "outputs": [],
   "source": [
    "def text_to_audio_gtts(text, output_file=\"test_output1.mp3\", lang=\"en\"):\n",
    "    tts = gTTS(text=text, lang=lang, slow=False)\n",
    "    tts.save(output_file)\n",
    "    print(f\"Audio saved as '{output_file}'\")"
   ]
  },
  {
   "cell_type": "code",
   "execution_count": 16,
   "id": "2d0ea365-9865-4132-91e7-3ca1cd889a0d",
   "metadata": {},
   "outputs": [
    {
     "name": "stdout",
     "output_type": "stream",
     "text": [
      "Audio saved as 'test_output1.mp3'\n"
     ]
    }
   ],
   "source": [
    "text_to_audio_gtts(summary)"
   ]
  },
  {
   "cell_type": "code",
   "execution_count": null,
   "id": "bbfd18e4-fd36-4cf4-83ba-b663ae5aabfd",
   "metadata": {},
   "outputs": [],
   "source": []
  }
 ],
 "metadata": {
  "kernelspec": {
   "display_name": "Python 3 (ipykernel)",
   "language": "python",
   "name": "python3"
  },
  "language_info": {
   "codemirror_mode": {
    "name": "ipython",
    "version": 3
   },
   "file_extension": ".py",
   "mimetype": "text/x-python",
   "name": "python",
   "nbconvert_exporter": "python",
   "pygments_lexer": "ipython3",
   "version": "3.8.19"
  }
 },
 "nbformat": 4,
 "nbformat_minor": 5
}
